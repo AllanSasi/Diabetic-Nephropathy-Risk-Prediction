{
 "cells": [
  {
   "cell_type": "markdown",
   "metadata": {},
   "source": [
    "# Project on Disease Prediction using Machine Learning\n",
    "\n",
    "##### ML algorithms used:-\n",
    "- Linear regression\n",
    "- Logistic Regression\n",
    "- Decision Tree\n",
    "- K-Means Clustering"
   ]
  },
  {
   "cell_type": "code",
   "execution_count": 1,
   "metadata": {},
   "outputs": [
    {
     "data": {
      "text/plain": [
       "(50, 17)"
      ]
     },
     "execution_count": 1,
     "metadata": {},
     "output_type": "execute_result"
    }
   ],
   "source": [
    "import numpy as np\n",
    "import pandas as pd\n",
    "import seaborn as sns\n",
    "import matplotlib.pyplot as plt\n",
    "sns.set(color_codes=True)\n",
    "%matplotlib inline\n",
    "\n",
    "data_frame = pd.read_csv(\"proj-data.csv\")\n",
    "data_frame.shape"
   ]
  },
  {
   "cell_type": "markdown",
   "metadata": {},
   "source": [
    "### CORRELATION"
   ]
  },
  {
   "cell_type": "code",
   "execution_count": 2,
   "metadata": {},
   "outputs": [],
   "source": [
    "def plot_corr(data_frame, size=25):\n",
    "    \"\"\"Function plots a graphical correlation matrix for each pair of columns in the dataframe.\n",
    "    Input:\n",
    "        data_frame: pandas DataFrame\n",
    "        size: vertical and horizontal size of the plot\n",
    "    Displays:\n",
    "        matrix of correlation between columns.\n",
    "        Blue-cyan-yellow-red-darkred => less to more correlated\n",
    "        0 ------------------>  1\n",
    "        Expect a dark-red line running from top left to bottom right\n",
    "    \"\"\"\n",
    "    corr = data_frame.corr()\n",
    "    fig, ax = plt.subplots(figsize=(size, size))\n",
    "    ax.matshow(corr)\n",
    "    plt.xticks(range(len(corr.columns)), corr.columns)\n",
    "    plt.yticks(range(len(corr.columns)), corr.columns)"
   ]
  },
  {
   "cell_type": "code",
   "execution_count": 3,
   "metadata": {},
   "outputs": [
    {
     "data": {
      "text/html": [
       "<div>\n",
       "<style scoped>\n",
       "    .dataframe tbody tr th:only-of-type {\n",
       "        vertical-align: middle;\n",
       "    }\n",
       "\n",
       "    .dataframe tbody tr th {\n",
       "        vertical-align: top;\n",
       "    }\n",
       "\n",
       "    .dataframe thead th {\n",
       "        text-align: right;\n",
       "    }\n",
       "</style>\n",
       "<table border=\"1\" class=\"dataframe\">\n",
       "  <thead>\n",
       "    <tr style=\"text-align: right;\">\n",
       "      <th></th>\n",
       "      <th>Age</th>\n",
       "      <th>BMI</th>\n",
       "      <th>Blood_Pressure</th>\n",
       "      <th>Blood_Sugar</th>\n",
       "      <th>Insulin</th>\n",
       "      <th>Glucose</th>\n",
       "      <th>Diabetes_Outcome</th>\n",
       "      <th>Blood_urea_nitrogen_level</th>\n",
       "      <th>Uric_acid</th>\n",
       "      <th>Creatinine_level</th>\n",
       "      <th>Kidney_test_outcome</th>\n",
       "    </tr>\n",
       "  </thead>\n",
       "  <tbody>\n",
       "    <tr>\n",
       "      <th>Age</th>\n",
       "      <td>1.000000</td>\n",
       "      <td>0.005466</td>\n",
       "      <td>0.363865</td>\n",
       "      <td>0.063184</td>\n",
       "      <td>-0.098943</td>\n",
       "      <td>0.343225</td>\n",
       "      <td>0.199776</td>\n",
       "      <td>0.222279</td>\n",
       "      <td>-0.075619</td>\n",
       "      <td>-0.023118</td>\n",
       "      <td>0.132242</td>\n",
       "    </tr>\n",
       "    <tr>\n",
       "      <th>BMI</th>\n",
       "      <td>0.005466</td>\n",
       "      <td>1.000000</td>\n",
       "      <td>0.295682</td>\n",
       "      <td>-0.170338</td>\n",
       "      <td>0.221143</td>\n",
       "      <td>0.206208</td>\n",
       "      <td>-0.033682</td>\n",
       "      <td>0.204468</td>\n",
       "      <td>0.054969</td>\n",
       "      <td>0.265964</td>\n",
       "      <td>0.090342</td>\n",
       "    </tr>\n",
       "    <tr>\n",
       "      <th>Blood_Pressure</th>\n",
       "      <td>0.363865</td>\n",
       "      <td>0.295682</td>\n",
       "      <td>1.000000</td>\n",
       "      <td>-0.029250</td>\n",
       "      <td>0.085568</td>\n",
       "      <td>0.121625</td>\n",
       "      <td>-0.127110</td>\n",
       "      <td>0.403617</td>\n",
       "      <td>0.021752</td>\n",
       "      <td>0.104475</td>\n",
       "      <td>0.073826</td>\n",
       "    </tr>\n",
       "    <tr>\n",
       "      <th>Blood_Sugar</th>\n",
       "      <td>0.063184</td>\n",
       "      <td>-0.170338</td>\n",
       "      <td>-0.029250</td>\n",
       "      <td>1.000000</td>\n",
       "      <td>0.012649</td>\n",
       "      <td>0.139285</td>\n",
       "      <td>0.080412</td>\n",
       "      <td>0.181586</td>\n",
       "      <td>0.248508</td>\n",
       "      <td>0.237710</td>\n",
       "      <td>0.190894</td>\n",
       "    </tr>\n",
       "    <tr>\n",
       "      <th>Insulin</th>\n",
       "      <td>-0.098943</td>\n",
       "      <td>0.221143</td>\n",
       "      <td>0.085568</td>\n",
       "      <td>0.012649</td>\n",
       "      <td>1.000000</td>\n",
       "      <td>0.257081</td>\n",
       "      <td>-0.234672</td>\n",
       "      <td>0.052369</td>\n",
       "      <td>-0.098805</td>\n",
       "      <td>0.001285</td>\n",
       "      <td>0.104956</td>\n",
       "    </tr>\n",
       "    <tr>\n",
       "      <th>Glucose</th>\n",
       "      <td>0.343225</td>\n",
       "      <td>0.206208</td>\n",
       "      <td>0.121625</td>\n",
       "      <td>0.139285</td>\n",
       "      <td>0.257081</td>\n",
       "      <td>1.000000</td>\n",
       "      <td>0.477320</td>\n",
       "      <td>0.099939</td>\n",
       "      <td>-0.026066</td>\n",
       "      <td>0.151775</td>\n",
       "      <td>0.104187</td>\n",
       "    </tr>\n",
       "    <tr>\n",
       "      <th>Diabetes_Outcome</th>\n",
       "      <td>0.199776</td>\n",
       "      <td>-0.033682</td>\n",
       "      <td>-0.127110</td>\n",
       "      <td>0.080412</td>\n",
       "      <td>-0.234672</td>\n",
       "      <td>0.477320</td>\n",
       "      <td>1.000000</td>\n",
       "      <td>-0.053565</td>\n",
       "      <td>-0.074559</td>\n",
       "      <td>0.015724</td>\n",
       "      <td>0.065530</td>\n",
       "    </tr>\n",
       "    <tr>\n",
       "      <th>Blood_urea_nitrogen_level</th>\n",
       "      <td>0.222279</td>\n",
       "      <td>0.204468</td>\n",
       "      <td>0.403617</td>\n",
       "      <td>0.181586</td>\n",
       "      <td>0.052369</td>\n",
       "      <td>0.099939</td>\n",
       "      <td>-0.053565</td>\n",
       "      <td>1.000000</td>\n",
       "      <td>0.480021</td>\n",
       "      <td>0.610877</td>\n",
       "      <td>0.689735</td>\n",
       "    </tr>\n",
       "    <tr>\n",
       "      <th>Uric_acid</th>\n",
       "      <td>-0.075619</td>\n",
       "      <td>0.054969</td>\n",
       "      <td>0.021752</td>\n",
       "      <td>0.248508</td>\n",
       "      <td>-0.098805</td>\n",
       "      <td>-0.026066</td>\n",
       "      <td>-0.074559</td>\n",
       "      <td>0.480021</td>\n",
       "      <td>1.000000</td>\n",
       "      <td>0.725949</td>\n",
       "      <td>0.698722</td>\n",
       "    </tr>\n",
       "    <tr>\n",
       "      <th>Creatinine_level</th>\n",
       "      <td>-0.023118</td>\n",
       "      <td>0.265964</td>\n",
       "      <td>0.104475</td>\n",
       "      <td>0.237710</td>\n",
       "      <td>0.001285</td>\n",
       "      <td>0.151775</td>\n",
       "      <td>0.015724</td>\n",
       "      <td>0.610877</td>\n",
       "      <td>0.725949</td>\n",
       "      <td>1.000000</td>\n",
       "      <td>0.708877</td>\n",
       "    </tr>\n",
       "    <tr>\n",
       "      <th>Kidney_test_outcome</th>\n",
       "      <td>0.132242</td>\n",
       "      <td>0.090342</td>\n",
       "      <td>0.073826</td>\n",
       "      <td>0.190894</td>\n",
       "      <td>0.104956</td>\n",
       "      <td>0.104187</td>\n",
       "      <td>0.065530</td>\n",
       "      <td>0.689735</td>\n",
       "      <td>0.698722</td>\n",
       "      <td>0.708877</td>\n",
       "      <td>1.000000</td>\n",
       "    </tr>\n",
       "  </tbody>\n",
       "</table>\n",
       "</div>"
      ],
      "text/plain": [
       "                                Age       BMI  Blood_Pressure  Blood_Sugar  \\\n",
       "Age                        1.000000  0.005466        0.363865     0.063184   \n",
       "BMI                        0.005466  1.000000        0.295682    -0.170338   \n",
       "Blood_Pressure             0.363865  0.295682        1.000000    -0.029250   \n",
       "Blood_Sugar                0.063184 -0.170338       -0.029250     1.000000   \n",
       "Insulin                   -0.098943  0.221143        0.085568     0.012649   \n",
       "Glucose                    0.343225  0.206208        0.121625     0.139285   \n",
       "Diabetes_Outcome           0.199776 -0.033682       -0.127110     0.080412   \n",
       "Blood_urea_nitrogen_level  0.222279  0.204468        0.403617     0.181586   \n",
       "Uric_acid                 -0.075619  0.054969        0.021752     0.248508   \n",
       "Creatinine_level          -0.023118  0.265964        0.104475     0.237710   \n",
       "Kidney_test_outcome        0.132242  0.090342        0.073826     0.190894   \n",
       "\n",
       "                            Insulin   Glucose  Diabetes_Outcome  \\\n",
       "Age                       -0.098943  0.343225          0.199776   \n",
       "BMI                        0.221143  0.206208         -0.033682   \n",
       "Blood_Pressure             0.085568  0.121625         -0.127110   \n",
       "Blood_Sugar                0.012649  0.139285          0.080412   \n",
       "Insulin                    1.000000  0.257081         -0.234672   \n",
       "Glucose                    0.257081  1.000000          0.477320   \n",
       "Diabetes_Outcome          -0.234672  0.477320          1.000000   \n",
       "Blood_urea_nitrogen_level  0.052369  0.099939         -0.053565   \n",
       "Uric_acid                 -0.098805 -0.026066         -0.074559   \n",
       "Creatinine_level           0.001285  0.151775          0.015724   \n",
       "Kidney_test_outcome        0.104956  0.104187          0.065530   \n",
       "\n",
       "                           Blood_urea_nitrogen_level  Uric_acid  \\\n",
       "Age                                         0.222279  -0.075619   \n",
       "BMI                                         0.204468   0.054969   \n",
       "Blood_Pressure                              0.403617   0.021752   \n",
       "Blood_Sugar                                 0.181586   0.248508   \n",
       "Insulin                                     0.052369  -0.098805   \n",
       "Glucose                                     0.099939  -0.026066   \n",
       "Diabetes_Outcome                           -0.053565  -0.074559   \n",
       "Blood_urea_nitrogen_level                   1.000000   0.480021   \n",
       "Uric_acid                                   0.480021   1.000000   \n",
       "Creatinine_level                            0.610877   0.725949   \n",
       "Kidney_test_outcome                         0.689735   0.698722   \n",
       "\n",
       "                           Creatinine_level  Kidney_test_outcome  \n",
       "Age                               -0.023118             0.132242  \n",
       "BMI                                0.265964             0.090342  \n",
       "Blood_Pressure                     0.104475             0.073826  \n",
       "Blood_Sugar                        0.237710             0.190894  \n",
       "Insulin                            0.001285             0.104956  \n",
       "Glucose                            0.151775             0.104187  \n",
       "Diabetes_Outcome                   0.015724             0.065530  \n",
       "Blood_urea_nitrogen_level          0.610877             0.689735  \n",
       "Uric_acid                          0.725949             0.698722  \n",
       "Creatinine_level                   1.000000             0.708877  \n",
       "Kidney_test_outcome                0.708877             1.000000  "
      ]
     },
     "execution_count": 3,
     "metadata": {},
     "output_type": "execute_result"
    }
   ],
   "source": [
    "data_frame.corr()"
   ]
  },
  {
   "cell_type": "code",
   "execution_count": 4,
   "metadata": {},
   "outputs": [
    {
     "data": {
      "image/png": "[encoded data removed]",
      "text/plain": [
       "<Figure size 1800x1800 with 1 Axes>"
      ]
     },
     "metadata": {
      "needs_background": "light"
     },
     "output_type": "display_data"
    }
   ],
   "source": [
    "#correlation\n",
    "plot_corr(data_frame)\n",
    "plt.savefig('corr.png')"
   ]
  },
  {
   "cell_type": "code",
   "execution_count": 5,
   "metadata": {},
   "outputs": [
    {
     "name": "stdout",
     "output_type": "stream",
     "text": [
      "Number of True cases:  20 (40.00%)\n",
      "Number of False cases: 30 (60.00%)\n"
     ]
    }
   ],
   "source": [
    "#true cases\n",
    "num_obs = len(data_frame)\n",
    "num_true = len(data_frame.loc[data_frame['Diabetes_Outcome'] == 1])\n",
    "num_false = len(data_frame.loc[data_frame['Diabetes_Outcome'] == 0])\n",
    "print(\"Number of True cases:  {0} ({1:2.2f}%)\".format(num_true, ((1.00 * num_true)/(1.0 * num_obs)) * 100))\n",
    "print(\"Number of False cases: {0} ({1:2.2f}%)\".format(num_false, (( 1.0 * num_false)/(1.0 * num_obs)) * 100))\n"
   ]
  },
  {
   "cell_type": "markdown",
   "metadata": {},
   "source": [
    "### HISTOGRAMS"
   ]
  },
  {
   "cell_type": "code",
   "execution_count": 6,
   "metadata": {},
   "outputs": [
    {
     "data": {
      "text/html": [
       "<div>\n",
       "<style scoped>\n",
       "    .dataframe tbody tr th:only-of-type {\n",
       "        vertical-align: middle;\n",
       "    }\n",
       "\n",
       "    .dataframe tbody tr th {\n",
       "        vertical-align: top;\n",
       "    }\n",
       "\n",
       "    .dataframe thead th {\n",
       "        text-align: right;\n",
       "    }\n",
       "</style>\n",
       "<table border=\"1\" class=\"dataframe\">\n",
       "  <thead>\n",
       "    <tr style=\"text-align: right;\">\n",
       "      <th></th>\n",
       "      <th>Serial_ID</th>\n",
       "      <th>Patient_Name</th>\n",
       "      <th>Sex</th>\n",
       "      <th>Blood_group</th>\n",
       "      <th>Age</th>\n",
       "      <th>BMI</th>\n",
       "      <th>Blood_Pressure</th>\n",
       "      <th>Blood_Sugar</th>\n",
       "      <th>Insulin</th>\n",
       "      <th>Glucose</th>\n",
       "      <th>Diabetes_Outcome</th>\n",
       "      <th>Blood_urea_nitrogen_level</th>\n",
       "      <th>Uric_acid</th>\n",
       "      <th>Creatinine_level</th>\n",
       "      <th>Kidney_test_outcome</th>\n",
       "      <th>Drug_Diabetes</th>\n",
       "      <th>Drug_kidney</th>\n",
       "    </tr>\n",
       "  </thead>\n",
       "  <tbody>\n",
       "    <tr>\n",
       "      <th>0</th>\n",
       "      <td>A001</td>\n",
       "      <td>Ananya Mohan</td>\n",
       "      <td>Female</td>\n",
       "      <td>A-</td>\n",
       "      <td>47</td>\n",
       "      <td>33.6</td>\n",
       "      <td>62</td>\n",
       "      <td>80</td>\n",
       "      <td>0</td>\n",
       "      <td>138</td>\n",
       "      <td>1</td>\n",
       "      <td>20</td>\n",
       "      <td>5.5</td>\n",
       "      <td>1.2</td>\n",
       "      <td>0</td>\n",
       "      <td>Precose</td>\n",
       "      <td>Enalapril</td>\n",
       "    </tr>\n",
       "    <tr>\n",
       "      <th>1</th>\n",
       "      <td>A002</td>\n",
       "      <td>Dasari K</td>\n",
       "      <td>Male</td>\n",
       "      <td>A-</td>\n",
       "      <td>23</td>\n",
       "      <td>38.2</td>\n",
       "      <td>82</td>\n",
       "      <td>52</td>\n",
       "      <td>125</td>\n",
       "      <td>84</td>\n",
       "      <td>0</td>\n",
       "      <td>20</td>\n",
       "      <td>1.8</td>\n",
       "      <td>1.3</td>\n",
       "      <td>0</td>\n",
       "      <td>Glyset</td>\n",
       "      <td>Enalapril</td>\n",
       "    </tr>\n",
       "    <tr>\n",
       "      <th>2</th>\n",
       "      <td>A003</td>\n",
       "      <td>Karan Jadeja</td>\n",
       "      <td>Male</td>\n",
       "      <td>AB+</td>\n",
       "      <td>31</td>\n",
       "      <td>44.2</td>\n",
       "      <td>0</td>\n",
       "      <td>99</td>\n",
       "      <td>0</td>\n",
       "      <td>145</td>\n",
       "      <td>1</td>\n",
       "      <td>7</td>\n",
       "      <td>3.4</td>\n",
       "      <td>0.9</td>\n",
       "      <td>0</td>\n",
       "      <td>Precose</td>\n",
       "      <td>Enalapril</td>\n",
       "    </tr>\n",
       "    <tr>\n",
       "      <th>3</th>\n",
       "      <td>A004</td>\n",
       "      <td>Himanshu Soni</td>\n",
       "      <td>Male</td>\n",
       "      <td>A+</td>\n",
       "      <td>24</td>\n",
       "      <td>42.3</td>\n",
       "      <td>68</td>\n",
       "      <td>110</td>\n",
       "      <td>250</td>\n",
       "      <td>135</td>\n",
       "      <td>0</td>\n",
       "      <td>15</td>\n",
       "      <td>4.5</td>\n",
       "      <td>0.4</td>\n",
       "      <td>0</td>\n",
       "      <td>Precose</td>\n",
       "      <td>Ramipril</td>\n",
       "    </tr>\n",
       "    <tr>\n",
       "      <th>4</th>\n",
       "      <td>A005</td>\n",
       "      <td>Moti Lal</td>\n",
       "      <td>Male</td>\n",
       "      <td>O+</td>\n",
       "      <td>21</td>\n",
       "      <td>40.7</td>\n",
       "      <td>62</td>\n",
       "      <td>155</td>\n",
       "      <td>480</td>\n",
       "      <td>139</td>\n",
       "      <td>0</td>\n",
       "      <td>25</td>\n",
       "      <td>6.7</td>\n",
       "      <td>1.5</td>\n",
       "      <td>1</td>\n",
       "      <td>Precose</td>\n",
       "      <td>Captopril</td>\n",
       "    </tr>\n",
       "  </tbody>\n",
       "</table>\n",
       "</div>"
      ],
      "text/plain": [
       "  Serial_ID   Patient_Name     Sex Blood_group  Age   BMI  Blood_Pressure  \\\n",
       "0      A001   Ananya Mohan  Female          A-   47  33.6              62   \n",
       "1      A002       Dasari K    Male          A-   23  38.2              82   \n",
       "2      A003   Karan Jadeja    Male         AB+   31  44.2               0   \n",
       "3      A004  Himanshu Soni    Male          A+   24  42.3              68   \n",
       "4      A005       Moti Lal    Male          O+   21  40.7              62   \n",
       "\n",
       "   Blood_Sugar  Insulin  Glucose  Diabetes_Outcome  Blood_urea_nitrogen_level  \\\n",
       "0           80        0      138                 1                         20   \n",
       "1           52      125       84                 0                         20   \n",
       "2           99        0      145                 1                          7   \n",
       "3          110      250      135                 0                         15   \n",
       "4          155      480      139                 0                         25   \n",
       "\n",
       "   Uric_acid  Creatinine_level  Kidney_test_outcome Drug_Diabetes Drug_kidney  \n",
       "0        5.5               1.2                    0       Precose   Enalapril  \n",
       "1        1.8               1.3                    0        Glyset   Enalapril  \n",
       "2        3.4               0.9                    0       Precose   Enalapril  \n",
       "3        4.5               0.4                    0       Precose    Ramipril  \n",
       "4        6.7               1.5                    1       Precose   Captopril  "
      ]
     },
     "execution_count": 6,
     "metadata": {},
     "output_type": "execute_result"
    }
   ],
   "source": [
    "import pandas as pd\n",
    "df = pd.read_csv(\"proj-data.csv\")\n",
    "df.head()"
   ]
  },
  {
   "cell_type": "code",
   "execution_count": 7,
   "metadata": {},
   "outputs": [
    {
     "data": {
      "text/html": [
       "<div>\n",
       "<style scoped>\n",
       "    .dataframe tbody tr th:only-of-type {\n",
       "        vertical-align: middle;\n",
       "    }\n",
       "\n",
       "    .dataframe tbody tr th {\n",
       "        vertical-align: top;\n",
       "    }\n",
       "\n",
       "    .dataframe thead th {\n",
       "        text-align: right;\n",
       "    }\n",
       "</style>\n",
       "<table border=\"1\" class=\"dataframe\">\n",
       "  <thead>\n",
       "    <tr style=\"text-align: right;\">\n",
       "      <th></th>\n",
       "      <th>Age</th>\n",
       "      <th>BMI</th>\n",
       "      <th>Blood_Pressure</th>\n",
       "      <th>Insulin</th>\n",
       "      <th>Glucose</th>\n",
       "      <th>Blood_urea_nitrogen_level</th>\n",
       "      <th>Uric_acid</th>\n",
       "      <th>Creatinine_level</th>\n",
       "    </tr>\n",
       "  </thead>\n",
       "  <tbody>\n",
       "    <tr>\n",
       "      <th>count</th>\n",
       "      <td>50.00000</td>\n",
       "      <td>50.000000</td>\n",
       "      <td>50.000000</td>\n",
       "      <td>50.000000</td>\n",
       "      <td>50.000000</td>\n",
       "      <td>50.000000</td>\n",
       "      <td>50.000000</td>\n",
       "      <td>50.00000</td>\n",
       "    </tr>\n",
       "    <tr>\n",
       "      <th>mean</th>\n",
       "      <td>36.30000</td>\n",
       "      <td>32.064000</td>\n",
       "      <td>68.940000</td>\n",
       "      <td>66.360000</td>\n",
       "      <td>122.800000</td>\n",
       "      <td>23.180000</td>\n",
       "      <td>5.232000</td>\n",
       "      <td>1.34600</td>\n",
       "    </tr>\n",
       "    <tr>\n",
       "      <th>std</th>\n",
       "      <td>13.21139</td>\n",
       "      <td>8.178787</td>\n",
       "      <td>17.779155</td>\n",
       "      <td>101.080845</td>\n",
       "      <td>36.027767</td>\n",
       "      <td>8.160857</td>\n",
       "      <td>2.179257</td>\n",
       "      <td>0.73435</td>\n",
       "    </tr>\n",
       "    <tr>\n",
       "      <th>min</th>\n",
       "      <td>21.00000</td>\n",
       "      <td>0.000000</td>\n",
       "      <td>0.000000</td>\n",
       "      <td>0.000000</td>\n",
       "      <td>71.000000</td>\n",
       "      <td>5.000000</td>\n",
       "      <td>1.700000</td>\n",
       "      <td>0.00000</td>\n",
       "    </tr>\n",
       "    <tr>\n",
       "      <th>25%</th>\n",
       "      <td>25.00000</td>\n",
       "      <td>26.775000</td>\n",
       "      <td>64.000000</td>\n",
       "      <td>0.000000</td>\n",
       "      <td>91.750000</td>\n",
       "      <td>16.500000</td>\n",
       "      <td>3.250000</td>\n",
       "      <td>0.90000</td>\n",
       "    </tr>\n",
       "    <tr>\n",
       "      <th>50%</th>\n",
       "      <td>33.00000</td>\n",
       "      <td>32.200000</td>\n",
       "      <td>70.000000</td>\n",
       "      <td>0.000000</td>\n",
       "      <td>114.000000</td>\n",
       "      <td>24.000000</td>\n",
       "      <td>5.650000</td>\n",
       "      <td>1.30000</td>\n",
       "    </tr>\n",
       "    <tr>\n",
       "      <th>75%</th>\n",
       "      <td>45.00000</td>\n",
       "      <td>37.275000</td>\n",
       "      <td>77.500000</td>\n",
       "      <td>101.250000</td>\n",
       "      <td>145.750000</td>\n",
       "      <td>29.750000</td>\n",
       "      <td>6.700000</td>\n",
       "      <td>1.57500</td>\n",
       "    </tr>\n",
       "    <tr>\n",
       "      <th>max</th>\n",
       "      <td>67.00000</td>\n",
       "      <td>49.100000</td>\n",
       "      <td>110.000000</td>\n",
       "      <td>480.000000</td>\n",
       "      <td>195.000000</td>\n",
       "      <td>38.000000</td>\n",
       "      <td>8.900000</td>\n",
       "      <td>3.60000</td>\n",
       "    </tr>\n",
       "  </tbody>\n",
       "</table>\n",
       "</div>"
      ],
      "text/plain": [
       "            Age        BMI  Blood_Pressure     Insulin     Glucose  \\\n",
       "count  50.00000  50.000000       50.000000   50.000000   50.000000   \n",
       "mean   36.30000  32.064000       68.940000   66.360000  122.800000   \n",
       "std    13.21139   8.178787       17.779155  101.080845   36.027767   \n",
       "min    21.00000   0.000000        0.000000    0.000000   71.000000   \n",
       "25%    25.00000  26.775000       64.000000    0.000000   91.750000   \n",
       "50%    33.00000  32.200000       70.000000    0.000000  114.000000   \n",
       "75%    45.00000  37.275000       77.500000  101.250000  145.750000   \n",
       "max    67.00000  49.100000      110.000000  480.000000  195.000000   \n",
       "\n",
       "       Blood_urea_nitrogen_level  Uric_acid  Creatinine_level  \n",
       "count                  50.000000  50.000000          50.00000  \n",
       "mean                   23.180000   5.232000           1.34600  \n",
       "std                     8.160857   2.179257           0.73435  \n",
       "min                     5.000000   1.700000           0.00000  \n",
       "25%                    16.500000   3.250000           0.90000  \n",
       "50%                    24.000000   5.650000           1.30000  \n",
       "75%                    29.750000   6.700000           1.57500  \n",
       "max                    38.000000   8.900000           3.60000  "
      ]
     },
     "execution_count": 7,
     "metadata": {},
     "output_type": "execute_result"
    }
   ],
   "source": [
    "msm= df[['Age','BMI','Blood_Pressure','Insulin','Glucose','Blood_urea_nitrogen_level','Uric_acid','Creatinine_level']]\n",
    "msm.describe()#it presents the mean,standard deviation,min value,max value of the dataset of patient parameters"
   ]
  },
  {
   "cell_type": "code",
   "execution_count": 8,
   "metadata": {},
   "outputs": [
    {
     "data": {
      "image/png": "[encoded data removed]",
      "text/plain": [
       "<Figure size 576x576 with 1 Axes>"
      ]
     },
     "metadata": {
      "needs_background": "light"
     },
     "output_type": "display_data"
    },
    {
     "data": {
      "text/plain": [
       "<Figure size 432x288 with 0 Axes>"
      ]
     },
     "metadata": {},
     "output_type": "display_data"
    }
   ],
   "source": [
    "#BMI\n",
    "import matplotlib.pyplot as plt\n",
    "import pandas as pd\n",
    "import pylab as pl\n",
    "import numpy as np\n",
    "%matplotlib inline\n",
    "\n",
    "BMI= df[['BMI',]]\n",
    "BMI.hist(figsize=(8,8))\n",
    "plt.title(\"Histogram of BMI\")\n",
    "plt.show()\n",
    "plt.savefig('histoBMI.jpg')"
   ]
  },
  {
   "cell_type": "code",
   "execution_count": 9,
   "metadata": {},
   "outputs": [
    {
     "data": {
      "image/png": "[encoded data removed]",
      "text/plain": [
       "<Figure size 576x576 with 1 Axes>"
      ]
     },
     "metadata": {
      "needs_background": "light"
     },
     "output_type": "display_data"
    },
    {
     "data": {
      "text/plain": [
       "<Figure size 432x288 with 0 Axes>"
      ]
     },
     "metadata": {},
     "output_type": "display_data"
    }
   ],
   "source": [
    "#blood pressure\n",
    "bp= df[['Blood_Pressure']]\n",
    "bp.hist(figsize=(8,8))\n",
    "plt.title(\"Histogram of Blood_Pressure\")\n",
    "plt.show()\n",
    "plt.savefig('HistoBP.png')"
   ]
  },
  {
   "cell_type": "code",
   "execution_count": 10,
   "metadata": {},
   "outputs": [
    {
     "data": {
      "image/png": "[encoded data removed]",
      "text/plain": [
       "<Figure size 576x576 with 1 Axes>"
      ]
     },
     "metadata": {
      "needs_background": "light"
     },
     "output_type": "display_data"
    },
    {
     "data": {
      "text/plain": [
       "<Figure size 432x288 with 0 Axes>"
      ]
     },
     "metadata": {},
     "output_type": "display_data"
    }
   ],
   "source": [
    "#Insulin\n",
    "I= df[['Insulin']]\n",
    "I.hist(figsize=(8,8))\n",
    "plt.title(\"Histogram of Insulin\")\n",
    "plt.show()\n",
    "plt.savefig('HistoInsulin.png')"
   ]
  },
  {
   "cell_type": "code",
   "execution_count": 11,
   "metadata": {},
   "outputs": [
    {
     "data": {
      "image/png": "[encoded data removed]",
      "text/plain": [
       "<Figure size 576x576 with 1 Axes>"
      ]
     },
     "metadata": {
      "needs_background": "light"
     },
     "output_type": "display_data"
    },
    {
     "data": {
      "text/plain": [
       "<Figure size 432x288 with 0 Axes>"
      ]
     },
     "metadata": {},
     "output_type": "display_data"
    }
   ],
   "source": [
    "#Glucose\n",
    "G= df[['Glucose']]\n",
    "G.hist(figsize=(8,8))\n",
    "plt.title(\"Histogram of Glucose\")\n",
    "plt.show()\n",
    "plt.savefig('HistoGlucose.png')"
   ]
  },
  {
   "cell_type": "code",
   "execution_count": 12,
   "metadata": {},
   "outputs": [
    {
     "data": {
      "image/png": "[encoded data removed]",
      "text/plain": [
       "<Figure size 576x576 with 1 Axes>"
      ]
     },
     "metadata": {
      "needs_background": "light"
     },
     "output_type": "display_data"
    },
    {
     "data": {
      "text/plain": [
       "<Figure size 432x288 with 0 Axes>"
      ]
     },
     "metadata": {},
     "output_type": "display_data"
    }
   ],
   "source": [
    "#Blood Urea Nitrogen Level\n",
    "bun= df[['Blood_urea_nitrogen_level']]\n",
    "bun.hist(figsize=(8,8))\n",
    "plt.title(\"Histogram of Blood_urea_nitrogen_level\")\n",
    "plt.show()\n",
    "plt.savefig('HistoBloodUreaNitroLv.png')"
   ]
  },
  {
   "cell_type": "code",
   "execution_count": 13,
   "metadata": {},
   "outputs": [
    {
     "data": {
      "image/png": "[encoded data removed]",
      "text/plain": [
       "<Figure size 576x576 with 1 Axes>"
      ]
     },
     "metadata": {
      "needs_background": "light"
     },
     "output_type": "display_data"
    },
    {
     "data": {
      "text/plain": [
       "<Figure size 432x288 with 0 Axes>"
      ]
     },
     "metadata": {},
     "output_type": "display_data"
    }
   ],
   "source": [
    "#Uric acid\n",
    "ua= df[['Uric_acid']]\n",
    "ua.hist(figsize=(8,8))\n",
    "plt.title(\"Histogram of Uric_acid\")\n",
    "plt.show()\n",
    "plt.savefig('HistoUricAcid.png')"
   ]
  },
  {
   "cell_type": "code",
   "execution_count": 14,
   "metadata": {},
   "outputs": [
    {
     "data": {
      "image/png": "[encoded data removed]",
      "text/plain": [
       "<Figure size 576x576 with 1 Axes>"
      ]
     },
     "metadata": {
      "needs_background": "light"
     },
     "output_type": "display_data"
    },
    {
     "data": {
      "text/plain": [
       "<Figure size 432x288 with 0 Axes>"
      ]
     },
     "metadata": {},
     "output_type": "display_data"
    }
   ],
   "source": [
    "#Creatinine level\n",
    "c= df[['Creatinine_level']]\n",
    "c.hist(figsize=(8,8))\n",
    "plt.title(\"Histogram of Creatinine level\")\n",
    "plt.show()\n",
    "plt.savefig('HistoCreatinineLv.png')"
   ]
  },
  {
   "cell_type": "markdown",
   "metadata": {},
   "source": [
    "### BAR GRAPH"
   ]
  },
  {
   "cell_type": "code",
   "execution_count": 15,
   "metadata": {},
   "outputs": [
    {
     "data": {
      "image/png": "[encoded data removed]",
      "text/plain": [
       "<Figure size 432x288 with 1 Axes>"
      ]
     },
     "metadata": {
      "needs_background": "light"
     },
     "output_type": "display_data"
    },
    {
     "data": {
      "text/plain": [
       "<Figure size 432x288 with 0 Axes>"
      ]
     },
     "metadata": {},
     "output_type": "display_data"
    }
   ],
   "source": [
    "table=pd.read_csv('proj-data.csv')\n",
    "table.head()\n",
    "\n",
    "plt.bar(x=np.arange(1,51),height=table['Blood_Sugar'])\n",
    "\n",
    "plt.title(\"Bar graph of Patient age wise Blood Sugar levels\")\n",
    "\n",
    "\"\"\"\n",
    "Give the x axis some labels across the tick marks.\n",
    "Argument one is the position for each label\n",
    "Argument two is the label values and the final one is to rotate our labels\n",
    "\"\"\"\n",
    "plt.xticks(np.arange(1,51), table['Age'], rotation=90)\n",
    "\n",
    "plt.xlabel(\"Age\")\n",
    "plt.ylabel(\"Blood_Sugar\")\n",
    "\n",
    "plt.show()\n",
    "plt.savefig('BarBloodSugar-age.png')"
   ]
  },
  {
   "cell_type": "code",
   "execution_count": 16,
   "metadata": {},
   "outputs": [
    {
     "data": {
      "image/png": "[encoded data removed]",
      "text/plain": [
       "<Figure size 432x288 with 1 Axes>"
      ]
     },
     "metadata": {
      "needs_background": "light"
     },
     "output_type": "display_data"
    },
    {
     "data": {
      "text/plain": [
       "<Figure size 432x288 with 0 Axes>"
      ]
     },
     "metadata": {},
     "output_type": "display_data"
    }
   ],
   "source": [
    "table=pd.read_csv('proj-data.csv')\n",
    "table.head()\n",
    "\n",
    "plt.bar(x=np.arange(1,51),height=table['Creatinine_level'])\n",
    "plt.title(\"Bar graph of Patient age wise Creatinine levels\")\n",
    "\"\"\"\n",
    "Give the x axis some labels across the tick marks.\n",
    "Argument one is the position for each label\n",
    "Argument two is the label values and the final one is to rotate our labels\n",
    "\"\"\"\n",
    "plt.xticks(np.arange(1,51), table['Age'], rotation=90)\n",
    "\n",
    "plt.xlabel(\"Age\")\n",
    "plt.ylabel(\"Creatinine Level\")\n",
    "\n",
    "plt.show()\n",
    "plt.savefig('BarCreatinineLv-age.png')"
   ]
  },
  {
   "cell_type": "code",
   "execution_count": 17,
   "metadata": {},
   "outputs": [
    {
     "data": {
      "image/png": "[encoded data removed]",
      "text/plain": [
       "<Figure size 432x288 with 1 Axes>"
      ]
     },
     "metadata": {
      "needs_background": "light"
     },
     "output_type": "display_data"
    },
    {
     "data": {
      "text/plain": [
       "<Figure size 432x288 with 0 Axes>"
      ]
     },
     "metadata": {},
     "output_type": "display_data"
    }
   ],
   "source": [
    "table=pd.read_csv('proj-data.csv')\n",
    "table.head()\n",
    "\n",
    "plt.bar(x=np.arange(1,51),height=table['Blood_Pressure'])\n",
    "plt.title(\"Bar graph of Patient age wise Blood Sugar levels\")\n",
    "\"\"\"\n",
    "Give the x axis some labels across the tick marks.\n",
    "Argument one is the position for each label\n",
    "Argument two is the label values and the final one is to rotate our labels\n",
    "\"\"\"\n",
    "plt.xticks(np.arange(1,51), table['Age'], rotation=90)\n",
    "\n",
    "plt.xlabel(\"Age\")\n",
    "plt.ylabel(\"Blood Pressuer\")\n",
    "\n",
    "plt.show()\n",
    "plt.savefig('BarBP-age.png')"
   ]
  },
  {
   "cell_type": "markdown",
   "metadata": {},
   "source": [
    "### LINEAR REGRESSION"
   ]
  },
  {
   "cell_type": "markdown",
   "metadata": {},
   "source": [
    "FOR DIABETES"
   ]
  },
  {
   "cell_type": "code",
   "execution_count": 18,
   "metadata": {},
   "outputs": [
    {
     "data": {
      "image/png": "[encoded data removed]",
      "text/plain": [
       "<Figure size 432x288 with 1 Axes>"
      ]
     },
     "metadata": {},
     "output_type": "display_data"
    },
    {
     "data": {
      "text/plain": [
       "<Figure size 432x288 with 0 Axes>"
      ]
     },
     "metadata": {},
     "output_type": "display_data"
    }
   ],
   "source": [
    "import numpy as np\n",
    "import matplotlib.pyplot as plt\n",
    "import pandas as pd\n",
    "\n",
    "dataset = pd.read_csv('proj-data.csv')\n",
    "X = dataset.iloc[:, [4]].values\n",
    "y = dataset.iloc[:, 7].values\n",
    "\n",
    "from sklearn.model_selection import train_test_split\n",
    "x_train,x_test,y_train, y_test = train_test_split(X,y,test_size=0.2)\n",
    "\n",
    "from sklearn.linear_model import LinearRegression\n",
    "\n",
    "regr = LinearRegression()\n",
    "\n",
    "regr.fit(x_train, y_train)\n",
    "\n",
    "y_pred = regr.predict(x_test)\n",
    "\n",
    "plt.scatter(x_train, y_train, color = 'blue')\n",
    "plt.plot(x_test, y_pred, color = 'black', linewidth = 2)\n",
    "plt.title('Truth or Bluff (Linear Regression)')\n",
    "plt.xlabel('Blood Sugar')\n",
    "plt.ylabel('Diabetes Outcome')\n",
    "plt.xticks(())\n",
    "plt.yticks(())\n",
    "plt.show()\n",
    "plt.savefig('linear-regr-BloodSugar-DiabetOut.png')"
   ]
  },
  {
   "cell_type": "code",
   "execution_count": 19,
   "metadata": {},
   "outputs": [
    {
     "name": "stdout",
     "output_type": "stream",
     "text": [
      "100.79302935013986\n"
     ]
    },
    {
     "data": {
      "text/plain": [
       "\"\\nAround 0.001 is great, 1.0 - 2.0 means you should tune your model\\ngreater than that means if tuning doesn't work, try another model\\n\""
      ]
     },
     "execution_count": 19,
     "metadata": {},
     "output_type": "execute_result"
    }
   ],
   "source": [
    "import math\n",
    "from sklearn.metrics import mean_squared_error\n",
    "\n",
    "rmse = math.sqrt(mean_squared_error(x_test, y_pred))\n",
    "print(rmse)\n",
    "\"\"\"\n",
    "Around 0.001 is great, 1.0 - 2.0 means you should tune your model\n",
    "greater than that means if tuning doesn't work, try another model\n",
    "\"\"\""
   ]
  },
  {
   "cell_type": "markdown",
   "metadata": {},
   "source": [
    "### LOGISTIC REGRESSION"
   ]
  },
  {
   "cell_type": "markdown",
   "metadata": {},
   "source": [
    "FOR DIABETES"
   ]
  },
  {
   "cell_type": "code",
   "execution_count": 20,
   "metadata": {},
   "outputs": [],
   "source": [
    "from sklearn.model_selection import train_test_split\n",
    "\n",
    "feature_col_names = ['Blood_Sugar', 'Insulin', 'Glucose']\n",
    "predicted_class_names = ['Diabetes_Outcome']\n",
    "\n",
    "X = data_frame[feature_col_names].values\n",
    "y = data_frame[predicted_class_names].values\n",
    "split_test_size = 0.30\n",
    "\n",
    "X_train, X_test, y_train, y_test = train_test_split(X, y, test_size=split_test_size, random_state=42)"
   ]
  },
  {
   "cell_type": "code",
   "execution_count": 21,
   "metadata": {},
   "outputs": [
    {
     "name": "stderr",
     "output_type": "stream",
     "text": [
      "c:\\users\\allan\\appdata\\local\\programs\\python\\python36\\lib\\site-packages\\sklearn\\linear_model\\logistic.py:432: FutureWarning: Default solver will be changed to 'lbfgs' in 0.22. Specify a solver to silence this warning.\n",
      "  FutureWarning)\n",
      "'c' argument looks like a single numeric RGB or RGBA sequence, which should be avoided as value-mapping will have precedence in case its length matches with 'x' & 'y'.  Please use a 2-D array with a single row if you really want to specify the same RGB or RGBA value for all points.\n",
      "'c' argument looks like a single numeric RGB or RGBA sequence, which should be avoided as value-mapping will have precedence in case its length matches with 'x' & 'y'.  Please use a 2-D array with a single row if you really want to specify the same RGB or RGBA value for all points.\n"
     ]
    },
    {
     "data": {
      "image/png": "[encoded data removed]",
      "text/plain": [
       "<Figure size 432x288 with 1 Axes>"
      ]
     },
     "metadata": {
      "needs_background": "light"
     },
     "output_type": "display_data"
    },
    {
     "data": {
      "text/plain": [
       "<Figure size 432x288 with 0 Axes>"
      ]
     },
     "metadata": {},
     "output_type": "display_data"
    }
   ],
   "source": [
    "import numpy as np\n",
    "import matplotlib.pyplot as plt\n",
    "import pandas as pd\n",
    "\n",
    "dataset = pd.read_csv('proj-data.csv')\n",
    "X = dataset.iloc[:, [7, 9]].values\n",
    "y = dataset.iloc[:, 10].values\n",
    "\n",
    "from sklearn.model_selection import train_test_split\n",
    "X_train, X_test, y_train, y_test = train_test_split(X, y, test_size = 0.25, random_state = 0)\n",
    "\n",
    "from sklearn.preprocessing import StandardScaler\n",
    "sc = StandardScaler()\n",
    "X_train = sc.fit_transform(X_train)\n",
    "X_test = sc.transform(X_test)\n",
    "\n",
    "from sklearn.linear_model import LogisticRegression\n",
    "classifier = LogisticRegression(random_state = 0)\n",
    "classifier.fit(X_train, y_train)\n",
    "\n",
    "y_pred = classifier.predict(X_test)\n",
    "\n",
    "from sklearn.metrics import confusion_matrix\n",
    "cm = confusion_matrix(y_test, y_pred)\n",
    "\n",
    "from matplotlib.colors import ListedColormap\n",
    "X_set, y_set = X_train, y_train\n",
    "X1, X2 = np.meshgrid(np.arange(start = X_set[:, 0].min() - 1, stop = X_set[:, 0].max() + 1, step = 0.01),\n",
    "                     np.arange(start = X_set[:, 1].min() - 1, stop = X_set[:, 1].max() + 1, step = 0.01))\n",
    "plt.contourf(X1, X2, classifier.predict(np.array([X1.ravel(), X2.ravel()]).T).reshape(X1.shape),\n",
    "             alpha = 0.75, cmap = ListedColormap(('red', 'green')))\n",
    "plt.xlim(X1.min(), X1.max())\n",
    "plt.ylim(X2.min(), X2.max())\n",
    "for i, j in enumerate(np.unique(y_set)):\n",
    "    plt.scatter(X_set[y_set == j, 0], X_set[y_set == j, 1],\n",
    "                c = ListedColormap(('blue', 'yellow'))(i), label = j)\n",
    "plt.title('Logistic Regression (Training set)')\n",
    "plt.xlabel('Attributes')\n",
    "plt.ylabel('Outcome')\n",
    "plt.legend()\n",
    "plt.show()\n",
    "plt.savefig('LogisticDiabetesTraining-Attribute-Outcome.png')"
   ]
  },
  {
   "cell_type": "code",
   "execution_count": 22,
   "metadata": {},
   "outputs": [
    {
     "name": "stderr",
     "output_type": "stream",
     "text": [
      "'c' argument looks like a single numeric RGB or RGBA sequence, which should be avoided as value-mapping will have precedence in case its length matches with 'x' & 'y'.  Please use a 2-D array with a single row if you really want to specify the same RGB or RGBA value for all points.\n",
      "'c' argument looks like a single numeric RGB or RGBA sequence, which should be avoided as value-mapping will have precedence in case its length matches with 'x' & 'y'.  Please use a 2-D array with a single row if you really want to specify the same RGB or RGBA value for all points.\n"
     ]
    },
    {
     "data": {
      "image/png": "[encoded data removed]",
      "text/plain": [
       "<Figure size 432x288 with 1 Axes>"
      ]
     },
     "metadata": {
      "needs_background": "light"
     },
     "output_type": "display_data"
    },
    {
     "data": {
      "text/plain": [
       "<Figure size 432x288 with 0 Axes>"
      ]
     },
     "metadata": {},
     "output_type": "display_data"
    }
   ],
   "source": [
    "from matplotlib.colors import ListedColormap\n",
    "X_set, y_set = X_test, y_test\n",
    "X1, X2 = np.meshgrid(np.arange(start = X_set[:, 0].min() - 1, stop = X_set[:, 0].max() + 1, step = 0.01),\n",
    "                     np.arange(start = X_set[:, 1].min() - 1, stop = X_set[:, 1].max() + 1, step = 0.01))\n",
    "plt.contourf(X1, X2, classifier.predict(np.array([X1.ravel(), X2.ravel()]).T).reshape(X1.shape),\n",
    "             alpha = 0.75, cmap = ListedColormap(('blue', 'yellow')))\n",
    "plt.xlim(X1.min(), X1.max())\n",
    "plt.ylim(X2.min(), X2.max())\n",
    "for i, j in enumerate(np.unique(y_set)):\n",
    "    plt.scatter(X_set[y_set == j, 0], X_set[y_set == j, 1],c = ListedColormap(('black', 'white'))(i), label = j)\n",
    "plt.title('Logistic Regression (Test set)')\n",
    "plt.xlabel('Attributes')\n",
    "plt.ylabel('Outcome')\n",
    "plt.legend()\n",
    "plt.show()\n",
    "plt.savefig('LogisticDiabetesTesting-Attribute-outcome.png')"
   ]
  },
  {
   "cell_type": "code",
   "execution_count": 23,
   "metadata": {},
   "outputs": [
    {
     "data": {
      "text/plain": [
       "0.5384615384615384"
      ]
     },
     "execution_count": 23,
     "metadata": {},
     "output_type": "execute_result"
    }
   ],
   "source": [
    "from sklearn.metrics import accuracy_score\n",
    "accuracy_score(y_test, y_pred)"
   ]
  },
  {
   "cell_type": "markdown",
   "metadata": {},
   "source": [
    "FOR KIDNEY"
   ]
  },
  {
   "cell_type": "code",
   "execution_count": 24,
   "metadata": {},
   "outputs": [
    {
     "name": "stderr",
     "output_type": "stream",
     "text": [
      "c:\\users\\allan\\appdata\\local\\programs\\python\\python36\\lib\\site-packages\\sklearn\\linear_model\\logistic.py:432: FutureWarning: Default solver will be changed to 'lbfgs' in 0.22. Specify a solver to silence this warning.\n",
      "  FutureWarning)\n",
      "'c' argument looks like a single numeric RGB or RGBA sequence, which should be avoided as value-mapping will have precedence in case its length matches with 'x' & 'y'.  Please use a 2-D array with a single row if you really want to specify the same RGB or RGBA value for all points.\n",
      "'c' argument looks like a single numeric RGB or RGBA sequence, which should be avoided as value-mapping will have precedence in case its length matches with 'x' & 'y'.  Please use a 2-D array with a single row if you really want to specify the same RGB or RGBA value for all points.\n"
     ]
    },
    {
     "data": {
      "image/png": "[encoded data removed]",
      "text/plain": [
       "<Figure size 432x288 with 1 Axes>"
      ]
     },
     "metadata": {
      "needs_background": "light"
     },
     "output_type": "display_data"
    },
    {
     "data": {
      "text/plain": [
       "<Figure size 432x288 with 0 Axes>"
      ]
     },
     "metadata": {},
     "output_type": "display_data"
    }
   ],
   "source": [
    "import numpy as np\n",
    "import matplotlib.pyplot as plt\n",
    "import pandas as pd\n",
    "\n",
    "dataset = pd.read_csv('proj-data.csv')\n",
    "X = dataset.iloc[:, [11, 13]].values\n",
    "y = dataset.iloc[:, 14].values\n",
    "\n",
    "from sklearn.model_selection import train_test_split\n",
    "X_train, X_test, y_train, y_test = train_test_split(X, y, test_size = 0.25, random_state = 0)\n",
    "\n",
    "from sklearn.preprocessing import StandardScaler\n",
    "sc = StandardScaler()\n",
    "X_train = sc.fit_transform(X_train)\n",
    "X_test = sc.transform(X_test)\n",
    "\n",
    "from sklearn.linear_model import LogisticRegression\n",
    "classifier = LogisticRegression(random_state = 0)\n",
    "classifier.fit(X_train, y_train)\n",
    "\n",
    "y_pred = classifier.predict(X_test)\n",
    "\n",
    "from sklearn.metrics import confusion_matrix\n",
    "cm = confusion_matrix(y_test, y_pred)\n",
    "\n",
    "from matplotlib.colors import ListedColormap\n",
    "X_set, y_set = X_train, y_train\n",
    "X1, X2 = np.meshgrid(np.arange(start = X_set[:, 0].min() - 1, stop = X_set[:, 0].max() + 1, step = 0.01),\n",
    "                     np.arange(start = X_set[:, 1].min() - 1, stop = X_set[:, 1].max() + 1, step = 0.01))\n",
    "plt.contourf(X1, X2, classifier.predict(np.array([X1.ravel(), X2.ravel()]).T).reshape(X1.shape),\n",
    "             alpha = 0.75, cmap = ListedColormap(('red', 'green')))\n",
    "plt.xlim(X1.min(), X1.max())\n",
    "plt.ylim(X2.min(), X2.max())\n",
    "for i, j in enumerate(np.unique(y_set)):\n",
    "    plt.scatter(X_set[y_set == j, 0], X_set[y_set == j, 1], c = ListedColormap(('blue', 'yellow'))(i), label = j)\n",
    "plt.title('Logistic Regression (Training set)')\n",
    "plt.xlabel('Attributes')\n",
    "plt.ylabel('kidney function test')\n",
    "plt.legend()\n",
    "plt.show()\n",
    "plt.savefig('LogisticKidneyTraining-Attribute-KidneyFuncTest.png')"
   ]
  },
  {
   "cell_type": "code",
   "execution_count": 25,
   "metadata": {},
   "outputs": [
    {
     "name": "stderr",
     "output_type": "stream",
     "text": [
      "'c' argument looks like a single numeric RGB or RGBA sequence, which should be avoided as value-mapping will have precedence in case its length matches with 'x' & 'y'.  Please use a 2-D array with a single row if you really want to specify the same RGB or RGBA value for all points.\n",
      "'c' argument looks like a single numeric RGB or RGBA sequence, which should be avoided as value-mapping will have precedence in case its length matches with 'x' & 'y'.  Please use a 2-D array with a single row if you really want to specify the same RGB or RGBA value for all points.\n"
     ]
    },
    {
     "data": {
      "image/png": "[encoded data removed]",
      "text/plain": [
       "<Figure size 432x288 with 1 Axes>"
      ]
     },
     "metadata": {
      "needs_background": "light"
     },
     "output_type": "display_data"
    },
    {
     "data": {
      "text/plain": [
       "<Figure size 432x288 with 0 Axes>"
      ]
     },
     "metadata": {},
     "output_type": "display_data"
    }
   ],
   "source": [
    "from matplotlib.colors import ListedColormap\n",
    "X_set, y_set = X_test, y_test\n",
    "X1, X2 = np.meshgrid(np.arange(start = X_set[:, 0].min() - 1, stop = X_set[:, 0].max() + 1, step = 0.01),\n",
    "                     np.arange(start = X_set[:, 1].min() - 1, stop = X_set[:, 1].max() + 1, step = 0.01))\n",
    "plt.contourf(X1, X2, classifier.predict(np.array([X1.ravel(), X2.ravel()]).T).reshape(X1.shape),\n",
    "             alpha = 0.75, cmap = ListedColormap(('blue', 'yellow')))\n",
    "plt.xlim(X1.min(), X1.max())\n",
    "plt.ylim(X2.min(), X2.max())\n",
    "for i, j in enumerate(np.unique(y_set)):\n",
    "    plt.scatter(X_set[y_set == j, 0], X_set[y_set == j, 1], c = ListedColormap(('black', 'white'))(i), label = j)\n",
    "plt.title('Logistic Regression (Test set)')\n",
    "plt.xlabel('Attributes')\n",
    "plt.ylabel('Kidney Function test')\n",
    "plt.legend()\n",
    "plt.show()\n",
    "plt.savefig('LogisticKidneyTest-Attribute-KidneyFuncTest.png')"
   ]
  },
  {
   "cell_type": "code",
   "execution_count": 26,
   "metadata": {},
   "outputs": [
    {
     "data": {
      "text/plain": [
       "0.9230769230769231"
      ]
     },
     "execution_count": 26,
     "metadata": {},
     "output_type": "execute_result"
    }
   ],
   "source": [
    "from sklearn.metrics import accuracy_score\n",
    "accuracy_score(y_test, y_pred)"
   ]
  },
  {
   "cell_type": "markdown",
   "metadata": {},
   "source": [
    "### DECISION TREE"
   ]
  },
  {
   "cell_type": "markdown",
   "metadata": {},
   "source": [
    "FOR DIABETES"
   ]
  },
  {
   "cell_type": "code",
   "execution_count": 27,
   "metadata": {},
   "outputs": [
    {
     "data": {
      "text/plain": [
       "DecisionTreeClassifier(class_weight=None, criterion='entropy', max_depth=4,\n",
       "                       max_features=None, max_leaf_nodes=None,\n",
       "                       min_impurity_decrease=0.0, min_impurity_split=None,\n",
       "                       min_samples_leaf=1, min_samples_split=2,\n",
       "                       min_weight_fraction_leaf=0.0, presort=False,\n",
       "                       random_state=None, splitter='best')"
      ]
     },
     "execution_count": 27,
     "metadata": {},
     "output_type": "execute_result"
    }
   ],
   "source": [
    "feature_col_names = [ 'Blood_Sugar', 'Insulin', 'Glucose']\n",
    "predicted_class_names = ['Diabetes_Outcome']\n",
    "X = data_frame[feature_col_names].values     # predictor feature columns (8 X m)\n",
    "y = data_frame[predicted_class_names].values # predicted class (1=true, 0=false) column (1 X m)\n",
    "split_test_size = 0.30\n",
    "from sklearn.model_selection import train_test_split\n",
    "X_trainset, X_testset, y_trainset, y_testset = train_test_split(X, y, test_size=0.2, random_state=3)\n",
    "from sklearn.tree import DecisionTreeClassifier\n",
    "clf=DecisionTreeClassifier(criterion=\"entropy\", max_depth =4)\n",
    "clf.fit(X,y)\n"
   ]
  },
  {
   "cell_type": "code",
   "execution_count": 28,
   "metadata": {},
   "outputs": [
    {
     "name": "stderr",
     "output_type": "stream",
     "text": [
      "c:\\users\\allan\\appdata\\local\\programs\\python\\python36\\lib\\site-packages\\sklearn\\externals\\six.py:31: DeprecationWarning: The module is deprecated in version 0.21 and will be removed in version 0.23 since we've dropped support for Python 2.7. Please rely on the official version of six (https://pypi.org/project/six/).\n",
      "  \"(https://pypi.org/project/six/).\", DeprecationWarning)\n"
     ]
    },
    {
     "name": "stdout",
     "output_type": "stream",
     "text": [
      "DecisionTrees's Accuracy:  1.0\n"
     ]
    }
   ],
   "source": [
    "from sklearn.externals.six import StringIO\n",
    "from IPython.display import Image\n",
    "from sklearn import tree\n",
    "import pydotplus\n",
    "from sklearn.tree import DecisionTreeClassifier\n",
    "clf=DecisionTreeClassifier()\n",
    "clf.fit(X,y)\n",
    "y_pred=clf.predict(X_testset)\n",
    "\n",
    "from sklearn import metrics\n",
    "import matplotlib.pyplot as plt\n",
    "print(\"DecisionTrees's Accuracy: \", metrics.accuracy_score(y_testset, y_pred))\n",
    "dot_data=StringIO()\n",
    "tree.export_graphviz(clf,out_file=dot_data,feature_names=feature_col_names)\n",
    "graph=pydotplus.graph_from_dot_data(dot_data.getvalue())\n",
    "graph.write_png('DecisionTreeDIABETES.png')\n",
    "Image=(graph.create_png())"
   ]
  },
  {
   "cell_type": "markdown",
   "metadata": {},
   "source": [
    "FOR KIDNEY"
   ]
  },
  {
   "cell_type": "code",
   "execution_count": 29,
   "metadata": {},
   "outputs": [
    {
     "name": "stdout",
     "output_type": "stream",
     "text": [
      "DecisionTrees's Accuracy:  1.0\n"
     ]
    }
   ],
   "source": [
    "from sklearn.model_selection import train_test_split\n",
    "\n",
    "feature_col_names = [ 'Blood_urea_nitrogen_level', 'Uric_acid', 'Creatinine_level']\n",
    "predicted_class_names = ['Kidney_test_outcome']\n",
    "\n",
    "X = data_frame[feature_col_names].values\n",
    "y = data_frame[predicted_class_names].values\n",
    "split_test_size = 0.30\n",
    "from sklearn.model_selection import train_test_split\n",
    "\n",
    "X_trainset, X_testset, y_trainset, y_testset = train_test_split(X, y, test_size=0.2, random_state=3)\n",
    "\n",
    "from sklearn.tree import DecisionTreeClassifier\n",
    "\n",
    "clf=DecisionTreeClassifier(criterion=\"entropy\", max_depth =4)\n",
    "clf.fit(X,y)\n",
    "\n",
    "from sklearn.externals.six import StringIO\n",
    "from IPython.display import Image\n",
    "from sklearn import tree\n",
    "import pydotplus\n",
    "\n",
    "from sklearn.tree import DecisionTreeClassifier\n",
    "clf=DecisionTreeClassifier()\n",
    "clf.fit(X,y)\n",
    "y_pred=clf.predict(X_testset)\n",
    "\n",
    "from sklearn import metrics\n",
    "import matplotlib.pyplot as plt\n",
    "print(\"DecisionTrees's Accuracy: \", metrics.accuracy_score(y_testset, y_pred))\n",
    "\n",
    "dot_data=StringIO()\n",
    "tree.export_graphviz(clf,out_file=dot_data,feature_names=feature_col_names)\n",
    "graph=pydotplus.graph_from_dot_data(dot_data.getvalue())\n",
    "graph.write_png('DecisionTreeKIDNEY.png')\n",
    "Image=(graph.create_png())"
   ]
  },
  {
   "cell_type": "code",
   "execution_count": 30,
   "metadata": {},
   "outputs": [
    {
     "data": {
      "text/html": [
       "<div>\n",
       "<style scoped>\n",
       "    .dataframe tbody tr th:only-of-type {\n",
       "        vertical-align: middle;\n",
       "    }\n",
       "\n",
       "    .dataframe tbody tr th {\n",
       "        vertical-align: top;\n",
       "    }\n",
       "\n",
       "    .dataframe thead th {\n",
       "        text-align: right;\n",
       "    }\n",
       "</style>\n",
       "<table border=\"1\" class=\"dataframe\">\n",
       "  <thead>\n",
       "    <tr style=\"text-align: right;\">\n",
       "      <th></th>\n",
       "      <th>Serial_ID</th>\n",
       "      <th>Patient_Name</th>\n",
       "      <th>Sex</th>\n",
       "      <th>Blood_group</th>\n",
       "      <th>Age</th>\n",
       "      <th>BMI</th>\n",
       "      <th>Blood_Pressure</th>\n",
       "      <th>Blood_Sugar</th>\n",
       "      <th>Insulin</th>\n",
       "      <th>Glucose</th>\n",
       "      <th>Diabetes_Outcome</th>\n",
       "      <th>Blood_urea_nitrogen_level</th>\n",
       "      <th>Uric_acid</th>\n",
       "      <th>Creatinine_level</th>\n",
       "      <th>Kidney_test_outcome</th>\n",
       "      <th>Drug_Diabetes</th>\n",
       "      <th>Drug_kidney</th>\n",
       "    </tr>\n",
       "  </thead>\n",
       "  <tbody>\n",
       "    <tr>\n",
       "      <th>0</th>\n",
       "      <td>A001</td>\n",
       "      <td>Ananya Mohan</td>\n",
       "      <td>Female</td>\n",
       "      <td>A-</td>\n",
       "      <td>47</td>\n",
       "      <td>33.6</td>\n",
       "      <td>62</td>\n",
       "      <td>80</td>\n",
       "      <td>0</td>\n",
       "      <td>138</td>\n",
       "      <td>1</td>\n",
       "      <td>20</td>\n",
       "      <td>5.5</td>\n",
       "      <td>1.2</td>\n",
       "      <td>0</td>\n",
       "      <td>Precose</td>\n",
       "      <td>Enalapril</td>\n",
       "    </tr>\n",
       "    <tr>\n",
       "      <th>1</th>\n",
       "      <td>A002</td>\n",
       "      <td>Dasari K</td>\n",
       "      <td>Male</td>\n",
       "      <td>A-</td>\n",
       "      <td>23</td>\n",
       "      <td>38.2</td>\n",
       "      <td>82</td>\n",
       "      <td>52</td>\n",
       "      <td>125</td>\n",
       "      <td>84</td>\n",
       "      <td>0</td>\n",
       "      <td>20</td>\n",
       "      <td>1.8</td>\n",
       "      <td>1.3</td>\n",
       "      <td>0</td>\n",
       "      <td>Glyset</td>\n",
       "      <td>Enalapril</td>\n",
       "    </tr>\n",
       "    <tr>\n",
       "      <th>2</th>\n",
       "      <td>A003</td>\n",
       "      <td>Karan Jadeja</td>\n",
       "      <td>Male</td>\n",
       "      <td>AB+</td>\n",
       "      <td>31</td>\n",
       "      <td>44.2</td>\n",
       "      <td>0</td>\n",
       "      <td>99</td>\n",
       "      <td>0</td>\n",
       "      <td>145</td>\n",
       "      <td>1</td>\n",
       "      <td>7</td>\n",
       "      <td>3.4</td>\n",
       "      <td>0.9</td>\n",
       "      <td>0</td>\n",
       "      <td>Precose</td>\n",
       "      <td>Enalapril</td>\n",
       "    </tr>\n",
       "    <tr>\n",
       "      <th>3</th>\n",
       "      <td>A004</td>\n",
       "      <td>Himanshu Soni</td>\n",
       "      <td>Male</td>\n",
       "      <td>A+</td>\n",
       "      <td>24</td>\n",
       "      <td>42.3</td>\n",
       "      <td>68</td>\n",
       "      <td>110</td>\n",
       "      <td>250</td>\n",
       "      <td>135</td>\n",
       "      <td>0</td>\n",
       "      <td>15</td>\n",
       "      <td>4.5</td>\n",
       "      <td>0.4</td>\n",
       "      <td>0</td>\n",
       "      <td>Precose</td>\n",
       "      <td>Ramipril</td>\n",
       "    </tr>\n",
       "    <tr>\n",
       "      <th>4</th>\n",
       "      <td>A005</td>\n",
       "      <td>Moti Lal</td>\n",
       "      <td>Male</td>\n",
       "      <td>O+</td>\n",
       "      <td>21</td>\n",
       "      <td>40.7</td>\n",
       "      <td>62</td>\n",
       "      <td>155</td>\n",
       "      <td>480</td>\n",
       "      <td>139</td>\n",
       "      <td>0</td>\n",
       "      <td>25</td>\n",
       "      <td>6.7</td>\n",
       "      <td>1.5</td>\n",
       "      <td>1</td>\n",
       "      <td>Precose</td>\n",
       "      <td>Captopril</td>\n",
       "    </tr>\n",
       "  </tbody>\n",
       "</table>\n",
       "</div>"
      ],
      "text/plain": [
       "  Serial_ID   Patient_Name     Sex Blood_group  Age   BMI  Blood_Pressure  \\\n",
       "0      A001   Ananya Mohan  Female          A-   47  33.6              62   \n",
       "1      A002       Dasari K    Male          A-   23  38.2              82   \n",
       "2      A003   Karan Jadeja    Male         AB+   31  44.2               0   \n",
       "3      A004  Himanshu Soni    Male          A+   24  42.3              68   \n",
       "4      A005       Moti Lal    Male          O+   21  40.7              62   \n",
       "\n",
       "   Blood_Sugar  Insulin  Glucose  Diabetes_Outcome  Blood_urea_nitrogen_level  \\\n",
       "0           80        0      138                 1                         20   \n",
       "1           52      125       84                 0                         20   \n",
       "2           99        0      145                 1                          7   \n",
       "3          110      250      135                 0                         15   \n",
       "4          155      480      139                 0                         25   \n",
       "\n",
       "   Uric_acid  Creatinine_level  Kidney_test_outcome Drug_Diabetes Drug_kidney  \n",
       "0        5.5               1.2                    0       Precose   Enalapril  \n",
       "1        1.8               1.3                    0        Glyset   Enalapril  \n",
       "2        3.4               0.9                    0       Precose   Enalapril  \n",
       "3        4.5               0.4                    0       Precose    Ramipril  \n",
       "4        6.7               1.5                    1       Precose   Captopril  "
      ]
     },
     "execution_count": 30,
     "metadata": {},
     "output_type": "execute_result"
    }
   ],
   "source": [
    "import pandas as pd\n",
    "import matplotlib.pyplot as plt\n",
    "import pylab as pl\n",
    "import numpy as np\n",
    "%matplotlib inline\n",
    "\n",
    "df = pd.read_csv(\"proj-data.csv\")\n",
    "df.head()"
   ]
  },
  {
   "cell_type": "code",
   "execution_count": 31,
   "metadata": {},
   "outputs": [
    {
     "name": "stdout",
     "output_type": "stream",
     "text": [
      "['Actoplus' 'Glyset' 'Glyset' 'Actoplus' 'Glyset' 'Glyset' 'Precose'\n",
      " 'Precose' 'Precose' 'Glyset']\n",
      "12    Actoplus\n",
      "39      Glyset\n",
      "9       Glyset\n",
      "47    Actoplus\n",
      "31      Glyset\n",
      "28      Glyset\n",
      "13     Precose\n",
      "48      Glyset\n",
      "45     Precose\n",
      "6       Glyset\n",
      "Name: Drug_Diabetes, dtype: object\n",
      "DecisionTrees's Accuracy:  0.9\n"
     ]
    }
   ],
   "source": [
    "import numpy as np \n",
    "import pandas as pd\n",
    "from sklearn.tree import DecisionTreeClassifier\n",
    "\n",
    "X =df[['Age', 'Sex','Diabetes_Outcome']].values\n",
    "d={'Male':1,'Female':0}\n",
    "df['Sex']=df['Sex'].map(d)\n",
    "X =df[['Age', 'Sex', 'Glucose','Diabetes_Outcome']].values\n",
    "y = df[\"Drug_Diabetes\"]\n",
    "\n",
    "from sklearn.model_selection import train_test_split\n",
    "\n",
    "X_trainset, X_testset, y_trainset, y_testset = train_test_split(X, y, test_size=0.2, random_state=3)\n",
    "drugTree = DecisionTreeClassifier(criterion=\"entropy\", max_depth =4)\n",
    "drugTree # it shows the default parameters\n",
    "drugTree.fit(X_trainset,y_trainset)\n",
    "predTree = drugTree.predict(X_testset)\n",
    "print (predTree [0:50])\n",
    "print (y_testset [0:50])\n",
    "\n",
    "from sklearn import metrics\n",
    "import matplotlib.pyplot as plt\n",
    "\n",
    "print(\"DecisionTrees's Accuracy: \", metrics.accuracy_score(y_testset, predTree))"
   ]
  },
  {
   "cell_type": "code",
   "execution_count": 32,
   "metadata": {},
   "outputs": [
    {
     "data": {
      "text/plain": [
       "DecisionTreeClassifier(class_weight=None, criterion='gini', max_depth=None,\n",
       "                       max_features=None, max_leaf_nodes=None,\n",
       "                       min_impurity_decrease=0.0, min_impurity_split=None,\n",
       "                       min_samples_leaf=1, min_samples_split=2,\n",
       "                       min_weight_fraction_leaf=0.0, presort=False,\n",
       "                       random_state=None, splitter='best')"
      ]
     },
     "execution_count": 32,
     "metadata": {},
     "output_type": "execute_result"
    }
   ],
   "source": [
    "from sklearn.externals.six import StringIO\n",
    "import pydotplus\n",
    "import matplotlib.image as mpimg\n",
    "from sklearn import tree\n",
    "%matplotlib inline \n",
    "\n",
    "X =df[['Age', 'Glucose','Sex', 'Diabetes_Outcome']]\n",
    "X[0:50]\n",
    "feature=list(X)\n",
    "feature\n",
    "from sklearn.tree import DecisionTreeClassifier\n",
    "y=df['Drug_Diabetes']\n",
    "X=df[feature]\n",
    "clf=tree.DecisionTreeClassifier()\n",
    "clf.fit(X,y)"
   ]
  },
  {
   "cell_type": "code",
   "execution_count": 33,
   "metadata": {},
   "outputs": [],
   "source": [
    "from sklearn.externals.six import StringIO\n",
    "from IPython.display import Image\n",
    "from sklearn import tree\n",
    "import pydotplus\n",
    "from sklearn.tree import DecisionTreeClassifier\n",
    "\n",
    "clf=tree.DecisionTreeClassifier()\n",
    "clf.fit(X,y)\n",
    "dot_data=StringIO()\n",
    "tree.export_graphviz(clf,out_file=dot_data,feature_names=feature)\n",
    "graph=pydotplus.graph_from_dot_data(dot_data.getvalue())\n",
    "graph.write_png('Drug-Diabetes.png')\n",
    "Image=(graph.create_png())"
   ]
  },
  {
   "cell_type": "code",
   "execution_count": 34,
   "metadata": {},
   "outputs": [
    {
     "data": {
      "text/html": [
       "<div>\n",
       "<style scoped>\n",
       "    .dataframe tbody tr th:only-of-type {\n",
       "        vertical-align: middle;\n",
       "    }\n",
       "\n",
       "    .dataframe tbody tr th {\n",
       "        vertical-align: top;\n",
       "    }\n",
       "\n",
       "    .dataframe thead th {\n",
       "        text-align: right;\n",
       "    }\n",
       "</style>\n",
       "<table border=\"1\" class=\"dataframe\">\n",
       "  <thead>\n",
       "    <tr style=\"text-align: right;\">\n",
       "      <th></th>\n",
       "      <th>Serial_ID</th>\n",
       "      <th>Patient_Name</th>\n",
       "      <th>Sex</th>\n",
       "      <th>Blood_group</th>\n",
       "      <th>Age</th>\n",
       "      <th>BMI</th>\n",
       "      <th>Blood_Pressure</th>\n",
       "      <th>Blood_Sugar</th>\n",
       "      <th>Insulin</th>\n",
       "      <th>Glucose</th>\n",
       "      <th>Diabetes_Outcome</th>\n",
       "      <th>Blood_urea_nitrogen_level</th>\n",
       "      <th>Uric_acid</th>\n",
       "      <th>Creatinine_level</th>\n",
       "      <th>Kidney_test_outcome</th>\n",
       "      <th>Drug_Diabetes</th>\n",
       "      <th>Drug_kidney</th>\n",
       "    </tr>\n",
       "  </thead>\n",
       "  <tbody>\n",
       "    <tr>\n",
       "      <th>0</th>\n",
       "      <td>A001</td>\n",
       "      <td>Ananya Mohan</td>\n",
       "      <td>Female</td>\n",
       "      <td>A-</td>\n",
       "      <td>47</td>\n",
       "      <td>33.6</td>\n",
       "      <td>62</td>\n",
       "      <td>80</td>\n",
       "      <td>0</td>\n",
       "      <td>138</td>\n",
       "      <td>1</td>\n",
       "      <td>20</td>\n",
       "      <td>5.5</td>\n",
       "      <td>1.2</td>\n",
       "      <td>0</td>\n",
       "      <td>Precose</td>\n",
       "      <td>Enalapril</td>\n",
       "    </tr>\n",
       "    <tr>\n",
       "      <th>1</th>\n",
       "      <td>A002</td>\n",
       "      <td>Dasari K</td>\n",
       "      <td>Male</td>\n",
       "      <td>A-</td>\n",
       "      <td>23</td>\n",
       "      <td>38.2</td>\n",
       "      <td>82</td>\n",
       "      <td>52</td>\n",
       "      <td>125</td>\n",
       "      <td>84</td>\n",
       "      <td>0</td>\n",
       "      <td>20</td>\n",
       "      <td>1.8</td>\n",
       "      <td>1.3</td>\n",
       "      <td>0</td>\n",
       "      <td>Glyset</td>\n",
       "      <td>Enalapril</td>\n",
       "    </tr>\n",
       "    <tr>\n",
       "      <th>2</th>\n",
       "      <td>A003</td>\n",
       "      <td>Karan Jadeja</td>\n",
       "      <td>Male</td>\n",
       "      <td>AB+</td>\n",
       "      <td>31</td>\n",
       "      <td>44.2</td>\n",
       "      <td>0</td>\n",
       "      <td>99</td>\n",
       "      <td>0</td>\n",
       "      <td>145</td>\n",
       "      <td>1</td>\n",
       "      <td>7</td>\n",
       "      <td>3.4</td>\n",
       "      <td>0.9</td>\n",
       "      <td>0</td>\n",
       "      <td>Precose</td>\n",
       "      <td>Enalapril</td>\n",
       "    </tr>\n",
       "    <tr>\n",
       "      <th>3</th>\n",
       "      <td>A004</td>\n",
       "      <td>Himanshu Soni</td>\n",
       "      <td>Male</td>\n",
       "      <td>A+</td>\n",
       "      <td>24</td>\n",
       "      <td>42.3</td>\n",
       "      <td>68</td>\n",
       "      <td>110</td>\n",
       "      <td>250</td>\n",
       "      <td>135</td>\n",
       "      <td>0</td>\n",
       "      <td>15</td>\n",
       "      <td>4.5</td>\n",
       "      <td>0.4</td>\n",
       "      <td>0</td>\n",
       "      <td>Precose</td>\n",
       "      <td>Ramipril</td>\n",
       "    </tr>\n",
       "    <tr>\n",
       "      <th>4</th>\n",
       "      <td>A005</td>\n",
       "      <td>Moti Lal</td>\n",
       "      <td>Male</td>\n",
       "      <td>O+</td>\n",
       "      <td>21</td>\n",
       "      <td>40.7</td>\n",
       "      <td>62</td>\n",
       "      <td>155</td>\n",
       "      <td>480</td>\n",
       "      <td>139</td>\n",
       "      <td>0</td>\n",
       "      <td>25</td>\n",
       "      <td>6.7</td>\n",
       "      <td>1.5</td>\n",
       "      <td>1</td>\n",
       "      <td>Precose</td>\n",
       "      <td>Captopril</td>\n",
       "    </tr>\n",
       "  </tbody>\n",
       "</table>\n",
       "</div>"
      ],
      "text/plain": [
       "  Serial_ID   Patient_Name     Sex Blood_group  Age   BMI  Blood_Pressure  \\\n",
       "0      A001   Ananya Mohan  Female          A-   47  33.6              62   \n",
       "1      A002       Dasari K    Male          A-   23  38.2              82   \n",
       "2      A003   Karan Jadeja    Male         AB+   31  44.2               0   \n",
       "3      A004  Himanshu Soni    Male          A+   24  42.3              68   \n",
       "4      A005       Moti Lal    Male          O+   21  40.7              62   \n",
       "\n",
       "   Blood_Sugar  Insulin  Glucose  Diabetes_Outcome  Blood_urea_nitrogen_level  \\\n",
       "0           80        0      138                 1                         20   \n",
       "1           52      125       84                 0                         20   \n",
       "2           99        0      145                 1                          7   \n",
       "3          110      250      135                 0                         15   \n",
       "4          155      480      139                 0                         25   \n",
       "\n",
       "   Uric_acid  Creatinine_level  Kidney_test_outcome Drug_Diabetes Drug_kidney  \n",
       "0        5.5               1.2                    0       Precose   Enalapril  \n",
       "1        1.8               1.3                    0        Glyset   Enalapril  \n",
       "2        3.4               0.9                    0       Precose   Enalapril  \n",
       "3        4.5               0.4                    0       Precose    Ramipril  \n",
       "4        6.7               1.5                    1       Precose   Captopril  "
      ]
     },
     "execution_count": 34,
     "metadata": {},
     "output_type": "execute_result"
    }
   ],
   "source": [
    "import pandas as pd\n",
    "import matplotlib.pyplot as plt\n",
    "import pylab as pl\n",
    "import numpy as np\n",
    "%matplotlib inline\n",
    "\n",
    "df = pd.read_csv(\"proj-data.csv\")\n",
    "df.head()"
   ]
  },
  {
   "cell_type": "code",
   "execution_count": 35,
   "metadata": {},
   "outputs": [
    {
     "data": {
      "text/plain": [
       "DecisionTreeClassifier(class_weight=None, criterion='entropy', max_depth=4,\n",
       "                       max_features=None, max_leaf_nodes=None,\n",
       "                       min_impurity_decrease=0.0, min_impurity_split=None,\n",
       "                       min_samples_leaf=1, min_samples_split=2,\n",
       "                       min_weight_fraction_leaf=0.0, presort=False,\n",
       "                       random_state=None, splitter='best')"
      ]
     },
     "execution_count": 35,
     "metadata": {},
     "output_type": "execute_result"
    }
   ],
   "source": [
    "import numpy as np \n",
    "import pandas as pd\n",
    "from sklearn.tree import DecisionTreeClassifier\n",
    "\n",
    "X =df[['Age', 'Sex','Diabetes_Outcome']].values\n",
    "d={'Male':1,'Female':0}\n",
    "df['Sex']=df['Sex'].map(d)\n",
    "\n",
    "X =df[['Age', 'Sex', 'Glucose','Diabetes_Outcome']].values\n",
    "y = df[\"Drug_kidney\"]\n",
    "\n",
    "from sklearn.model_selection import train_test_split\n",
    "\n",
    "X_trainset, X_testset, y_trainset, y_testset = train_test_split(X, y, test_size=0.2, random_state=3)\n",
    "\n",
    "drugTree = DecisionTreeClassifier(criterion=\"entropy\", max_depth =4)\n",
    "drugTree # it shows the default parameters"
   ]
  },
  {
   "cell_type": "code",
   "execution_count": 36,
   "metadata": {},
   "outputs": [
    {
     "data": {
      "text/plain": [
       "DecisionTreeClassifier(class_weight=None, criterion='entropy', max_depth=4,\n",
       "                       max_features=None, max_leaf_nodes=None,\n",
       "                       min_impurity_decrease=0.0, min_impurity_split=None,\n",
       "                       min_samples_leaf=1, min_samples_split=2,\n",
       "                       min_weight_fraction_leaf=0.0, presort=False,\n",
       "                       random_state=None, splitter='best')"
      ]
     },
     "execution_count": 36,
     "metadata": {},
     "output_type": "execute_result"
    }
   ],
   "source": [
    "drugTree.fit(X_trainset,y_trainset)"
   ]
  },
  {
   "cell_type": "code",
   "execution_count": 37,
   "metadata": {},
   "outputs": [
    {
     "name": "stdout",
     "output_type": "stream",
     "text": [
      "['Enalapril' 'Enalapril' 'Enalapril' 'Enalapril' 'Enalapril' 'Enalapril'\n",
      " 'Captopril' 'Enalapril' 'Enalapril' 'Enalapril']\n",
      "12     Ramipril\n",
      "39    Captopril\n",
      "9     Enalapril\n",
      "47    Captopril\n",
      "31    Enalapril\n",
      "28    Enalapril\n",
      "13    Enalapril\n",
      "48    Captopril\n",
      "45    Captopril\n",
      "6     Captopril\n",
      "Name: Drug_kidney, dtype: object\n"
     ]
    }
   ],
   "source": [
    "predTree = drugTree.predict(X_testset)\n",
    "print (predTree [0:50])\n",
    "print (y_testset [0:50])"
   ]
  },
  {
   "cell_type": "code",
   "execution_count": 38,
   "metadata": {},
   "outputs": [
    {
     "name": "stdout",
     "output_type": "stream",
     "text": [
      "DecisionTrees's Accuracy:  0.3\n"
     ]
    }
   ],
   "source": [
    "from sklearn import metrics\n",
    "import matplotlib.pyplot as plt\n",
    "\n",
    "print(\"DecisionTrees's Accuracy: \", metrics.accuracy_score(y_testset, predTree))"
   ]
  },
  {
   "cell_type": "code",
   "execution_count": 39,
   "metadata": {},
   "outputs": [
    {
     "data": {
      "text/plain": [
       "DecisionTreeClassifier(class_weight=None, criterion='gini', max_depth=None,\n",
       "                       max_features=None, max_leaf_nodes=None,\n",
       "                       min_impurity_decrease=0.0, min_impurity_split=None,\n",
       "                       min_samples_leaf=1, min_samples_split=2,\n",
       "                       min_weight_fraction_leaf=0.0, presort=False,\n",
       "                       random_state=None, splitter='best')"
      ]
     },
     "execution_count": 39,
     "metadata": {},
     "output_type": "execute_result"
    }
   ],
   "source": [
    "from sklearn.externals.six import StringIO\n",
    "import pydotplus\n",
    "import matplotlib.image as mpimg\n",
    "from sklearn import tree\n",
    "%matplotlib inline \n",
    "\n",
    "X =df[['Age', 'Glucose','Sex', 'Diabetes_Outcome']]\n",
    "X[0:50]\n",
    "feature=list(X)\n",
    "feature\n",
    "\n",
    "from sklearn.tree import DecisionTreeClassifier\n",
    "\n",
    "y=df['Drug_kidney']\n",
    "X=df[feature]\n",
    "clf=tree.DecisionTreeClassifier()\n",
    "clf.fit(X,y)"
   ]
  },
  {
   "cell_type": "code",
   "execution_count": 40,
   "metadata": {},
   "outputs": [],
   "source": [
    "from sklearn.externals.six import StringIO\n",
    "from IPython.display import Image\n",
    "from sklearn import tree\n",
    "import pydotplus\n",
    "from sklearn.tree import DecisionTreeClassifier\n",
    "\n",
    "clf=tree.DecisionTreeClassifier()\n",
    "clf.fit(X,y)\n",
    "dot_data=StringIO()\n",
    "tree.export_graphviz(clf,out_file=dot_data,feature_names=feature)\n",
    "graph=pydotplus.graph_from_dot_data(dot_data.getvalue())\n",
    "graph.write_png('Drug-Kidney.png')\n",
    "Image=(graph.create_png())"
   ]
  },
  {
   "cell_type": "markdown",
   "metadata": {},
   "source": [
    "### K-Means"
   ]
  },
  {
   "cell_type": "markdown",
   "metadata": {},
   "source": [
    "FOR DIABETES"
   ]
  },
  {
   "cell_type": "code",
   "execution_count": 41,
   "metadata": {},
   "outputs": [
    {
     "data": {
      "image/png": "[encoded data removed]",
      "text/plain": [
       "<Figure size 432x288 with 1 Axes>"
      ]
     },
     "metadata": {
      "needs_background": "light"
     },
     "output_type": "display_data"
    },
    {
     "data": {
      "text/plain": [
       "<Figure size 432x288 with 0 Axes>"
      ]
     },
     "metadata": {},
     "output_type": "display_data"
    }
   ],
   "source": [
    "import numpy as np\n",
    "import matplotlib.pyplot as plt\n",
    "import pandas as pd\n",
    "%matplotlib inline\n",
    "\n",
    "dataset = pd.read_csv('proj-data.csv')\n",
    "X = dataset.iloc[:, [7, 9]].values\n",
    "y = dataset.iloc[:, 10].values\n",
    "\"\"\"from sklearn.cross_validation import train_test_split\n",
    "X_train, X_test, y_train, y_test = train_test_split(X, y, test_size = 0.2, random_state = 0)\"\"\"\n",
    "\n",
    "\"\"\"from sklearn.preprocessing import StandardScaler\n",
    "sc_X = StandardScaler()\n",
    "X_train = sc_X.fit_transform(X_train)\n",
    "X_test = sc_X.transform(X_test)\n",
    "sc_y = StandardScaler()\n",
    "y_train = sc_y.fit_transform(y_train)\"\"\"\n",
    "\n",
    "from sklearn.cluster import KMeans\n",
    "\n",
    "wcss = []\n",
    "for i in range(1, 11):\n",
    "    kmeans = KMeans(n_clusters = i, init = 'k-means++', random_state = 42)\n",
    "    kmeans.fit(X)\n",
    "    wcss.append(kmeans.inertia_)\n",
    "plt.plot(range(1, 11), wcss)\n",
    "plt.title('The Elbow Method')\n",
    "plt.xlabel('Attributes')\n",
    "plt.ylabel('Diabetes Outcome')\n",
    "plt.show()\n",
    "plt.savefig('KmeansTraining-Diabetes.png')"
   ]
  },
  {
   "cell_type": "code",
   "execution_count": 42,
   "metadata": {},
   "outputs": [
    {
     "data": {
      "image/png": "[encoded data removed]",
      "text/plain": [
       "<Figure size 432x288 with 1 Axes>"
      ]
     },
     "metadata": {
      "needs_background": "light"
     },
     "output_type": "display_data"
    },
    {
     "data": {
      "text/plain": [
       "<Figure size 432x288 with 0 Axes>"
      ]
     },
     "metadata": {},
     "output_type": "display_data"
    }
   ],
   "source": [
    "kmeans = KMeans(n_clusters = 5, init = 'k-means++', random_state = 42)\n",
    "y_kmeans = kmeans.fit_predict(X)\n",
    "\n",
    "plt.scatter(X[y_kmeans == 0, 0], X[y_kmeans == 0, 1], s = 100, c = 'red', label = 'Cluster 1')\n",
    "plt.scatter(X[y_kmeans == 1, 0], X[y_kmeans == 1, 1], s = 100, c = 'blue', label = 'Cluster 2')\n",
    "plt.scatter(X[y_kmeans == 2, 0], X[y_kmeans == 2, 1], s = 100, c = 'green', label = 'Cluster 3')\n",
    "plt.scatter(X[y_kmeans == 3, 0], X[y_kmeans == 3, 1], s = 100, c = 'cyan', label = 'Cluster 4')\n",
    "plt.scatter(X[y_kmeans == 4, 0], X[y_kmeans == 4, 1], s = 100, c = 'magenta', label = 'Cluster 5')\n",
    "plt.scatter(kmeans.cluster_centers_[:, 0], kmeans.cluster_centers_[:, 1], s = 300, c = 'yellow', label = 'Centroids')\n",
    "plt.title('Clusters of Diabetes dataset')\n",
    "plt.xlabel('Attributes')\n",
    "plt.ylabel('Diabetes Outcome')\n",
    "plt.legend()\n",
    "plt.show()\n",
    "plt.savefig('Kmeans-Visual-Diabetes.png')"
   ]
  },
  {
   "cell_type": "code",
   "execution_count": 43,
   "metadata": {},
   "outputs": [
    {
     "name": "stdout",
     "output_type": "stream",
     "text": [
      "0.42\n"
     ]
    }
   ],
   "source": [
    "correct = 0\n",
    "for i in range(len(X)):\n",
    "    predict_me = np.array(X[i].astype(float))\n",
    "    predict_me = predict_me.reshape(-1, len(predict_me))\n",
    "    prediction = kmeans.predict(predict_me)\n",
    "    if prediction[0] == y[i]:\n",
    "        correct += 1\n",
    "\n",
    "print(correct/len(X))"
   ]
  },
  {
   "cell_type": "markdown",
   "metadata": {},
   "source": [
    "FOR KIDNEY"
   ]
  },
  {
   "cell_type": "code",
   "execution_count": 44,
   "metadata": {},
   "outputs": [
    {
     "data": {
      "image/png": "[encoded data removed]",
      "text/plain": [
       "<Figure size 432x288 with 1 Axes>"
      ]
     },
     "metadata": {
      "needs_background": "light"
     },
     "output_type": "display_data"
    },
    {
     "data": {
      "text/plain": [
       "<Figure size 432x288 with 0 Axes>"
      ]
     },
     "metadata": {},
     "output_type": "display_data"
    }
   ],
   "source": [
    "import numpy as np\n",
    "import matplotlib.pyplot as plt\n",
    "import pandas as pd\n",
    "%matplotlib inline\n",
    "\n",
    "dataset = pd.read_csv('proj-data.csv')\n",
    "X = dataset.iloc[:, [11, 13]].values\n",
    "y = dataset.iloc[:, 14].values\n",
    "\n",
    "\"\"\"from sklearn.cross_validation import train_test_split\n",
    "X_train, X_test, y_train, y_test = train_test_split(X, y, test_size = 0.2, random_state = 0)\"\"\"\n",
    "\n",
    "\"\"\"from sklearn.preprocessing import StandardScaler\n",
    "sc_X = StandardScaler()\n",
    "X_train = sc_X.fit_transform(X_train)\n",
    "X_test = sc_X.transform(X_test)\n",
    "sc_y = StandardScaler()\n",
    "y_train = sc_y.fit_transform(y_train)\"\"\"\n",
    "\n",
    "from sklearn.cluster import KMeans\n",
    "wcss = []\n",
    "for i in range(1, 11):\n",
    "    kmeans = KMeans(n_clusters = i, init = 'k-means++', random_state = 42)\n",
    "    kmeans.fit(X)\n",
    "    wcss.append(kmeans.inertia_)\n",
    "plt.plot(range(1, 11), wcss)\n",
    "plt.title('The Elbow Method')\n",
    "plt.xlabel('Attributes')\n",
    "plt.ylabel('Diabetes Outcome')\n",
    "plt.show()\n",
    "plt.savefig('KmeansTraining-Kidney.png')"
   ]
  },
  {
   "cell_type": "code",
   "execution_count": 45,
   "metadata": {},
   "outputs": [
    {
     "data": {
      "image/png": "[encoded data removed]",
      "text/plain": [
       "<Figure size 432x288 with 1 Axes>"
      ]
     },
     "metadata": {
      "needs_background": "light"
     },
     "output_type": "display_data"
    },
    {
     "data": {
      "text/plain": [
       "<Figure size 432x288 with 0 Axes>"
      ]
     },
     "metadata": {},
     "output_type": "display_data"
    }
   ],
   "source": [
    "kmeans = KMeans(n_clusters = 5, init = 'k-means++', random_state = 42)\n",
    "y_kmeans = kmeans.fit_predict(X)\n",
    "\n",
    "plt.scatter(X[y_kmeans == 0, 0], X[y_kmeans == 0, 1], s = 100, c = 'red', label = 'Cluster 1')\n",
    "plt.scatter(X[y_kmeans == 1, 0], X[y_kmeans == 1, 1], s = 100, c = 'blue', label = 'Cluster 2')\n",
    "plt.scatter(X[y_kmeans == 2, 0], X[y_kmeans == 2, 1], s = 100, c = 'green', label = 'Cluster 3')\n",
    "plt.scatter(X[y_kmeans == 3, 0], X[y_kmeans == 3, 1], s = 100, c = 'cyan', label = 'Cluster 4')\n",
    "plt.scatter(X[y_kmeans == 4, 0], X[y_kmeans == 4, 1], s = 100, c = 'magenta', label = 'Cluster 5')\n",
    "plt.scatter(kmeans.cluster_centers_[:, 0], kmeans.cluster_centers_[:, 1], s = 300, c = 'yellow', label = 'Centroids')\n",
    "plt.title('Clusters of Kidney dataset ')\n",
    "plt.xlabel('Attributes')\n",
    "plt.ylabel('Kidney Outcome')\n",
    "plt.legend()\n",
    "plt.show()\n",
    "plt.savefig('KmeansVisual-Kidney.png')\n"
   ]
  },
  {
   "cell_type": "code",
   "execution_count": 46,
   "metadata": {},
   "outputs": [
    {
     "name": "stdout",
     "output_type": "stream",
     "text": [
      "0.06\n"
     ]
    }
   ],
   "source": [
    "correct = 0\n",
    "for i in range(len(X)):\n",
    "    predict_me = np.array(X[i].astype(float))\n",
    "    predict_me = predict_me.reshape(-1, len(predict_me))\n",
    "    prediction = kmeans.predict(predict_me)\n",
    "    if prediction[0] == y[i]:\n",
    "        correct += 1\n",
    "\n",
    "print(correct/len(X))"
   ]
  }
 ],
 "metadata": {
  "kernelspec": {
   "display_name": "Python 3",
   "language": "python",
   "name": "python3"
  },
  "language_info": {
   "codemirror_mode": {
    "name": "ipython",
    "version": 3
   },
   "file_extension": ".py",
   "mimetype": "text/x-python",
   "name": "python",
   "nbconvert_exporter": "python",
   "pygments_lexer": "ipython3",
   "version": "3.6.0"
  }
 },
 "nbformat": 4,
 "nbformat_minor": 2
}
